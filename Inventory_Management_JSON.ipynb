{
 "cells": [
  {
   "cell_type": "markdown",
   "id": "a36bbd29",
   "metadata": {},
   "source": [
    "## Inventory Management with JSON\n",
    "\n",
    "### > In this project, a JSON file is created consisting of all product details. The product details included are : product ID, name, price and quantity\n",
    "\n",
    "### > Customer is shown the menu and asked if they want to buy something, if yes then they can choose an item from the menu and the quantity\n",
    "\n",
    "### > If item is availlable in required quantity, the customer can purchase it. If item is available but quantity is not enough, customer is asked if they want to buy all the quantity of that product that is available, if yes then proceed with the purchase, if item is not available at all, then customer can;t purchase it\n",
    "\n",
    "### > Once all purchase is done, customer details i.e name, phone number and email are collected, a bill is generated with total amount and transaction is recorded. Details included are customer details, item purchased, quantity of that item and amount spent"
   ]
  },
  {
   "cell_type": "code",
   "execution_count": 48,
   "id": "2e9f9589",
   "metadata": {},
   "outputs": [],
   "source": [
    "import json"
   ]
  },
  {
   "cell_type": "markdown",
   "id": "870df0ac",
   "metadata": {},
   "source": [
    "##### dictionary containing inventory is created and loaded in the json file (one time thing)"
   ]
  },
  {
   "cell_type": "code",
   "execution_count": 49,
   "id": "35640a2d",
   "metadata": {},
   "outputs": [],
   "source": [
    "#inventory = {\"oats\":{\"id\": 1,\"price\":250,\"quantity\":10} , \"kellogs\":{\"id\":2,\"price\":150,\"quantity\":15} , \n",
    "#            \"mueseli\":{\"id\":3,\"price\":200,\"quantity\":20}, \"5 star\":{\"id\":4,\"price\":10,\"quantity\":70}, \n",
    "#            \"milky bar\":{\"id\":5,\"price\":15,\"quantity\":80} , \"maggi\":{\"id\":6,\"price\":20,\"quantity\":45} , \n",
    "#            \"sunflower oil\":{\"id\":7,\"price\":400,\"quantity\":10}}\n",
    "\n",
    "#fd = open('inventory.json','w')\n",
    "#js = json.dumps(inventory)\n",
    "#fd.write(js)\n",
    "#fd.close()\n"
   ]
  },
  {
   "cell_type": "markdown",
   "id": "a6394175",
   "metadata": {},
   "source": [
    "##### json file is read and converted back to a dictionary"
   ]
  },
  {
   "cell_type": "code",
   "execution_count": 50,
   "id": "4619f14b",
   "metadata": {},
   "outputs": [],
   "source": [
    "fd2 = open('inventory.json','r')\n",
    "js = fd2.read()\n",
    "invt = json.loads(js)\n",
    "fd2.close()"
   ]
  },
  {
   "cell_type": "markdown",
   "id": "866dd494",
   "metadata": {},
   "source": [
    "##### menu is displayed"
   ]
  },
  {
   "cell_type": "code",
   "execution_count": 51,
   "id": "ff1ce8c4",
   "metadata": {},
   "outputs": [
    {
     "name": "stdout",
     "output_type": "stream",
     "text": [
      "--------------Menu--------------\n",
      "\n",
      "oats               Rs 250\n",
      "kellogs            Rs 150\n",
      "mueseli            Rs 200\n",
      "5 star              Rs 10\n",
      "milky bar           Rs 15\n",
      "maggi               Rs 20\n",
      "sunflower oil       Rs 400\n",
      "--------------------------------\n",
      "\n"
     ]
    }
   ],
   "source": [
    "print('--------------Menu--------------\\n')\n",
    "for key in invt.keys():\n",
    "    print(str(key).ljust(12),(\"Rs \" + str(invt[key][\"price\"])).rjust(12))\n",
    "print('--------------------------------\\n')"
   ]
  },
  {
   "cell_type": "markdown",
   "id": "c5b34e2a",
   "metadata": {},
   "source": [
    "##### purchase is done"
   ]
  },
  {
   "cell_type": "code",
   "execution_count": 52,
   "id": "aee3de0b",
   "metadata": {},
   "outputs": [
    {
     "name": "stdout",
     "output_type": "stream",
     "text": [
      "Enter Y if you want to buy something else enter N: y\n",
      "enter item: apple\n",
      "item not available\n",
      "Enter Y to continue buying and N otherwise: y\n",
      "enter item: 5 star\n",
      "enter quantity: 100\n",
      "we only have 70, enter Y to buy and N otherwise: \n",
      "Enter Y to continue buying and N otherwise: y\n",
      "enter item: apple\n",
      "item not available\n",
      "Enter Y to continue buying and N otherwise: n\n",
      "[['5 star', 100, 10, 700]]\n"
     ]
    }
   ],
   "source": [
    "ans = \"N\"\n",
    "buy_list = []\n",
    "ans = input(\"Enter Y if you want to buy something else enter N: \").upper()\n",
    "while ans=='Y':\n",
    "    buy = input(\"enter item: \")\n",
    "    # if valid item is entered\n",
    "    if buy in invt.keys():\n",
    "        qn = int(input('enter quantity: '))\n",
    "        # if quantity is more than or equal to required amount\n",
    "        if int(invt[buy][\"quantity\"])>=qn:\n",
    "            buy_list.append([buy, qn,int(invt[buy][\"price\"]),int(invt[buy][\"price\"])*qn])\n",
    "            invt[buy][\"quantity\"] = invt[buy][\"quantity\"]-qn\n",
    "        # if quantity is not enough but is greater than 0\n",
    "        elif invt[buy]['quantity']>0:\n",
    "            print(f\"we only have {invt[buy]['quantity']}, enter Y to buy and N otherwise: \")\n",
    "            if ans == 'Y':\n",
    "                buy_list.append([buy, qn,int(invt[buy][\"price\"]),int(invt[buy][\"price\"])*invt[buy]['quantity']])\n",
    "                invt[buy][\"quantity\"] = invt[buy][\"quantity\"]-invt[buy]['quantity']\n",
    "        #if quantity is 0\n",
    "        else:\n",
    "            print('item not available')\n",
    "    # if invalid item is entered           \n",
    "    else :\n",
    "        print('item not available')\n",
    "    ans = input(\"Enter Y to continue buying and N otherwise: \").upper()\n",
    "    \n",
    "print(buy_list)"
   ]
  },
  {
   "cell_type": "markdown",
   "id": "9c0d0bad",
   "metadata": {},
   "source": [
    "##### customer details are collected"
   ]
  },
  {
   "cell_type": "code",
   "execution_count": 53,
   "id": "ac0bd7da",
   "metadata": {},
   "outputs": [
    {
     "name": "stdout",
     "output_type": "stream",
     "text": [
      "Enter name: ritika\n",
      "Enter phone number: 9922773356\n",
      "Enter mail id: ritika@gmail.com\n"
     ]
    }
   ],
   "source": [
    "c_name = input(\"Enter name: \")\n",
    "c_phone = str(input(\"Enter phone number: \"))\n",
    "c_mail = input(\"Enter mail id: \")"
   ]
  },
  {
   "cell_type": "markdown",
   "id": "a46d69d9",
   "metadata": {},
   "source": [
    "##### bill is generated and transaction is recorded as csv in a text file called sales_JSON.txt"
   ]
  },
  {
   "cell_type": "code",
   "execution_count": 54,
   "id": "7e36e3c3",
   "metadata": {},
   "outputs": [
    {
     "name": "stdout",
     "output_type": "stream",
     "text": [
      "                   BILL                              \n",
      "--------------------------------------------------\n",
      "item        quantity     price/unit     price\n",
      "--------------------------------------------------\n",
      "5 star           100             10       700\n",
      "--------------------------------------------------\n",
      "Total:                                    700\n",
      "--------------------------------------------------\n"
     ]
    }
   ],
   "source": [
    "total = 0\n",
    "fd3 = open('sales_JSON.txt','a')\n",
    "print(\"                   BILL                              \")\n",
    "print(\"-\"*50)\n",
    "print(\"item\".ljust(10)+\"quantity\".rjust(10)+\"price/unit\".rjust(15)+\"price\".rjust(10))\n",
    "print(\"-\"*50)\n",
    "for i in buy_list:\n",
    "    sale = c_name + ',' + c_phone + ',' + c_mail + ',' + str(i[0]) + ',' + str(i[1]) + ',' + str(i[3]) + '\\n'\n",
    "    fd3.write(sale)\n",
    "    print(i[0].ljust(10)+str(i[1]).rjust(10)+str(i[2]).rjust(15)+str(i[3]).rjust(10))\n",
    "    total = total + i[3]\n",
    "print(\"-\"*50)\n",
    "print(\"Total: \"+ str(total).rjust(38))\n",
    "print(\"-\"*50)\n",
    "fd3.close()"
   ]
  },
  {
   "cell_type": "code",
   "execution_count": null,
   "id": "eba4b2f6",
   "metadata": {},
   "outputs": [],
   "source": []
  },
  {
   "cell_type": "code",
   "execution_count": null,
   "id": "e1e03528",
   "metadata": {},
   "outputs": [],
   "source": [
    "#json.dumps() converts from dictionary to json string\n",
    "#.json is the extension to write this string to a json file\n",
    "#json.loads() converts from json string back to dictionary\n",
    "#import json to use the functions"
   ]
  },
  {
   "cell_type": "code",
   "execution_count": null,
   "id": "dada7af6",
   "metadata": {},
   "outputs": [],
   "source": []
  },
  {
   "cell_type": "code",
   "execution_count": null,
   "id": "53f1646a",
   "metadata": {},
   "outputs": [],
   "source": []
  }
 ],
 "metadata": {
  "kernelspec": {
   "display_name": "Python 3 (ipykernel)",
   "language": "python",
   "name": "python3"
  },
  "language_info": {
   "codemirror_mode": {
    "name": "ipython",
    "version": 3
   },
   "file_extension": ".py",
   "mimetype": "text/x-python",
   "name": "python",
   "nbconvert_exporter": "python",
   "pygments_lexer": "ipython3",
   "version": "3.10.9"
  }
 },
 "nbformat": 4,
 "nbformat_minor": 5
}
