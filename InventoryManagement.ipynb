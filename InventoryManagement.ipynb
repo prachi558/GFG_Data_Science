{
 "cells": [
  {
   "cell_type": "code",
   "execution_count": 1,
   "id": "40928513",
   "metadata": {},
   "outputs": [],
   "source": [
    "invt = open('inventory.txt','a')\n",
    "\n",
    "invt.close()"
   ]
  },
  {
   "cell_type": "code",
   "execution_count": 2,
   "id": "19a9f3aa",
   "metadata": {},
   "outputs": [
    {
     "name": "stdout",
     "output_type": "stream",
     "text": [
      "12\n",
      "['1,5 star,10,70', '9,cornetto,40,25', '2,dairy milh,20,70', '3,chocos,150,40', '4,oats,250,15', '5,kellogs,170,20', '6,good day,20,40', '7,marie biscuit,35,30', '8,chocobar,25,30', '10,candy,1,250', '11,sprite,25,30']\n"
     ]
    }
   ],
   "source": [
    "invt2 = open('inventory.txt','r')\n",
    "products = invt2.read().split('\\n')\n",
    "print(len(products))\n",
    "print(products[:-1])"
   ]
  },
  {
   "cell_type": "code",
   "execution_count": 3,
   "id": "f03e2b8c",
   "metadata": {},
   "outputs": [
    {
     "name": "stdout",
     "output_type": "stream",
     "text": [
      "['5 star', 'cornetto', 'dairy milh', 'chocos', 'oats', 'kellogs', 'good day', 'marie biscuit', 'chocobar', 'candy', 'sprite'] \n",
      "\n"
     ]
    }
   ],
   "source": [
    "p = []\n",
    "Price = []\n",
    "for i in products[:-1]:\n",
    "    x = i.split(',')\n",
    "    p.append(x[1])\n",
    "print(p,'\\n')"
   ]
  },
  {
   "cell_type": "code",
   "execution_count": 5,
   "id": "afc69066",
   "metadata": {},
   "outputs": [
    {
     "name": "stdout",
     "output_type": "stream",
     "text": [
      "press Y to buy and N otherwiseY\n",
      "select product :oats\n",
      "enter quantity:45\n",
      "product not available\n",
      "Y to continue buying, N otherwiseY\n",
      "select product :oats\n",
      "enter quantity:3\n",
      "product not available\n",
      "Y to continue buying, N otherwiseN\n",
      "[['oats', 3], ['oats', 3], ['oats', 3], ['oats', 3], ['oats', 3], ['oats', 3], ['oats', 3], ['oats', 3], ['oats', 3]]\n"
     ]
    }
   ],
   "source": [
    "\n",
    "ans = 'N'\n",
    "ans = input('press Y to buy and N otherwise')\n",
    "pur = []\n",
    "\n",
    "while ans=='Y':\n",
    "    buy = input('select product :')\n",
    "    x = int(input('enter quantity:'))\n",
    "    for j in products[:-1]:\n",
    "        y = j.split(',')\n",
    "        y = int(y[2])-x\n",
    "        if y>0:\n",
    "            pur.append([str(buy),x])\n",
    "        else:\n",
    "            print('product not available')\n",
    "            break\n",
    "    ans = input('Y to continue buying, N otherwise')\n",
    "print(pur)\n",
    "\n",
    "\n"
   ]
  },
  {
   "cell_type": "code",
   "execution_count": 69,
   "id": "d7387f6a",
   "metadata": {},
   "outputs": [
    {
     "name": "stdout",
     "output_type": "stream",
     "text": [
      "710\n"
     ]
    }
   ],
   "source": [
    "total =0\n",
    "for i in pur:\n",
    "    if i[0] in p:\n",
    "        for j in products[:-1]:\n",
    "            x = j.split(',')\n",
    "            if i[0]==x[1]:\n",
    "                total = total + (int(x[2])*int(i[1]))\n",
    "    \n",
    "print(total)"
   ]
  },
  {
   "cell_type": "code",
   "execution_count": null,
   "id": "1cf3022c",
   "metadata": {},
   "outputs": [],
   "source": [
    "for i in pur:\n",
    "    if i[0] in p:\n",
    "        for j in products[:-1]:\n",
    "            x = j.split(',')\n",
    "            if x[1] == i[0]:\n",
    "                total = total +(int(x[2]*i[1]))"
   ]
  }
 ],
 "metadata": {
  "kernelspec": {
   "display_name": "Python 3 (ipykernel)",
   "language": "python",
   "name": "python3"
  },
  "language_info": {
   "codemirror_mode": {
    "name": "ipython",
    "version": 3
   },
   "file_extension": ".py",
   "mimetype": "text/x-python",
   "name": "python",
   "nbconvert_exporter": "python",
   "pygments_lexer": "ipython3",
   "version": "3.10.9"
  }
 },
 "nbformat": 4,
 "nbformat_minor": 5
}
