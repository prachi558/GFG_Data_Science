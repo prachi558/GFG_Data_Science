{
 "cells": [
  {
   "cell_type": "markdown",
   "id": "66d49094",
   "metadata": {},
   "source": [
    "### Inventory Management System\n",
    "##### > This project uses a existing inventory in the form of csv file containing the following product details : product ID, product name, Price, Quantity available\n",
    "##### > It asks customer what they need to buy and in how much quantity\n",
    "##### > It deducts the asked quantity from inventory list so that next time the reduced quantity is reflected in the inventory\n",
    "##### > It records transaction for each product, it records the following details : name of customer, their phone number, their email, product they purchased, quantity, and total expenditure they made on that product\n",
    "##### > It prints the total of each customer at the end"
   ]
  },
  {
   "cell_type": "markdown",
   "id": "ce363866",
   "metadata": {},
   "source": [
    "###### Reading product details"
   ]
  },
  {
   "cell_type": "code",
   "execution_count": 18,
   "id": "19a9f3aa",
   "metadata": {},
   "outputs": [],
   "source": [
    "invt2 = open('inventory.txt','r')\n",
    "products = invt2.read().split('\\n')\n",
    "#print(len(products))\n",
    "#print(products[:-1])"
   ]
  },
  {
   "cell_type": "markdown",
   "id": "9f3efa3f",
   "metadata": {},
   "source": [
    "###### creating 2 lists. p is a list of list of all product details and p2 is a list of only product names"
   ]
  },
  {
   "cell_type": "code",
   "execution_count": 19,
   "id": "f03e2b8c",
   "metadata": {},
   "outputs": [
    {
     "name": "stdout",
     "output_type": "stream",
     "text": [
      "[['1', '5 star', '10', '70'], ['9', 'cornetto', '40', '25'], ['2', 'dairy milh', '20', '70'], ['3', 'chocos', '150', '40'], ['4', 'oats', '250', '15'], ['5', 'kellogs', '170', '20'], ['6', 'good day', '20', '40'], ['7', 'marie biscuit', '35', '30'], ['8', 'chocobar', '25', '30'], ['10', 'candy', '1', '250'], ['11', 'sprite', '25', '30']]\n",
      "['5 star', 'cornetto', 'dairy milh', 'chocos', 'oats', 'kellogs', 'good day', 'marie biscuit', 'chocobar', 'candy', 'sprite']\n"
     ]
    }
   ],
   "source": [
    "p = []\n",
    "p2 = []\n",
    "Price = []\n",
    "for i in products[:-1]:\n",
    "    z = i.split(',')\n",
    "    p.append(z)\n",
    "    p2.append(z[1])\n",
    "#print(p)\n",
    "#print(p2)"
   ]
  },
  {
   "cell_type": "markdown",
   "id": "b21637b1",
   "metadata": {},
   "source": [
    "###### opening file sales.txt to record all transaction details"
   ]
  },
  {
   "cell_type": "code",
   "execution_count": 16,
   "id": "43ce08d5",
   "metadata": {},
   "outputs": [],
   "source": [
    "tran = open('sales.txt', 'a')"
   ]
  },
  {
   "cell_type": "markdown",
   "id": "7fd0ed2b",
   "metadata": {},
   "source": [
    "###### collecting details of customer, products to buy, quantity and total and storing the transaction details in sales.txt"
   ]
  },
  {
   "cell_type": "code",
   "execution_count": 17,
   "id": "afc69066",
   "metadata": {},
   "outputs": [
    {
     "name": "stdout",
     "output_type": "stream",
     "text": [
      "press Y to buy and N otherwiseY\n",
      "enter name: prajakta\n",
      "enter phone: 7788996655\n",
      "enter mail: praju345@gmail.com\n",
      "select product : oats\n",
      "enter quantity: 2\n",
      "Y to continue buying, N otherwiseY\n",
      "select product : 5 star\n",
      "enter quantity: 3\n",
      "Y to continue buying, N otherwiseN\n",
      "530\n"
     ]
    }
   ],
   "source": [
    "total = 0\n",
    "\n",
    "# taking by default, customer doesn't want anything\n",
    "ans = 'N'\n",
    "\n",
    "# asking if they want to buy something and proceed only if they answer yes\n",
    "ans = input('press Y to buy and N otherwise')\n",
    "\n",
    "# collecting customer details\n",
    "if ans == 'Y':\n",
    "    user_name = input('enter name: ')\n",
    "    user_phone = str(input('enter phone: '))\n",
    "    user_mail = input('enter mail: ')\n",
    "\n",
    "price = 0\n",
    "qn = 0\n",
    "# taking input for what the customer needs and in how much quantity\n",
    "while ans=='Y':\n",
    "    buy = (input('select product : ')).lower()\n",
    "    x = int(input('enter quantity: '))\n",
    "    for i in p:\n",
    "        if buy == i[1]:\n",
    "            # proceed if customer enters a valid product name\n",
    "            price = i[2]\n",
    "            qn = int(i[3])\n",
    "            # if needed quantity is available, move ahead and calculate total price, and deduct quantity in inventory\n",
    "            if qn > x:\n",
    "                total = total + (int(price)*x)\n",
    "                i[3] = str(int(i[3])-int(x))\n",
    "                # record sales details\n",
    "                sales_detail = user_name + ',' + user_phone + ',' + user_mail + ',' + buy + ',' + str(x) + ',' + str(total) + '\\n'\n",
    "                tran.write(sales_detail)\n",
    "                # if required quantity is not available, tell customer how much is available and ask if they want to buy it\n",
    "            elif int(i[3])>0:\n",
    "                print(f'we have {i[3]} only')\n",
    "                ans = input(f'would you like to purchase {i[3]}')\n",
    "                # if they answer yes, move ahead\n",
    "                if ans == 'Y':\n",
    "                    total = total + (int(price)*int(i[3]))\n",
    "                    i[3] = str(int(i[3])-int(x))\n",
    "                    # record sales details\n",
    "                    sales_detail = user_name + ',' + user_phone + ',' + user_mail + ',' + buy + ',' + i[3] + ',' + str(total) +'\\n'\n",
    "                    tran.write(sales_detail)\n",
    "            # if item is not available at all, tell them it's not available\n",
    "            else:\n",
    "                print('item not available')\n",
    "    # if customer enters a invalid product name, tell them product isn't available\n",
    "    if buy not in p2:\n",
    "        print('item not available')\n",
    "                    \n",
    "        \n",
    "\n",
    "    # if they want to buy another item, move ahead       \n",
    "    ans = input('Y to continue buying, N otherwise')\n",
    "    \n",
    "#print(p)\n",
    "# printing total and closing files\n",
    "print(total)\n",
    "invt.close()\n",
    "tran.close()"
   ]
  },
  {
   "cell_type": "code",
   "execution_count": null,
   "id": "d7387f6a",
   "metadata": {},
   "outputs": [],
   "source": []
  },
  {
   "cell_type": "code",
   "execution_count": null,
   "id": "1cf3022c",
   "metadata": {},
   "outputs": [],
   "source": []
  },
  {
   "cell_type": "code",
   "execution_count": null,
   "id": "db9b0f2b",
   "metadata": {},
   "outputs": [],
   "source": []
  }
 ],
 "metadata": {
  "kernelspec": {
   "display_name": "Python 3 (ipykernel)",
   "language": "python",
   "name": "python3"
  },
  "language_info": {
   "codemirror_mode": {
    "name": "ipython",
    "version": 3
   },
   "file_extension": ".py",
   "mimetype": "text/x-python",
   "name": "python",
   "nbconvert_exporter": "python",
   "pygments_lexer": "ipython3",
   "version": "3.10.9"
  }
 },
 "nbformat": 4,
 "nbformat_minor": 5
}
